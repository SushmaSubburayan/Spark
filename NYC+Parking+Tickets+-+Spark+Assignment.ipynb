{
 "cells": [
  {
   "cell_type": "markdown",
   "metadata": {},
   "source": [
    "## NYC Parking Tickets - Assignment"
   ]
  },
  {
   "cell_type": "markdown",
   "metadata": {},
   "source": [
    "### Business Problem Overview\n",
    "\n",
    "New York City is a thriving metropolis. Just like most other metros its size, one of the biggest problems its citizens face is parking. The classic combination of a huge number of cars and cramped geography leads to a huge number of parking tickets.\n",
    "\n",
    "In an attempt to scientifically analyse this phenomenon, the NYC Police Department has collected data for parking tickets"
   ]
  },
  {
   "cell_type": "markdown",
   "metadata": {},
   "source": [
    "### Goal\n",
    "To conduct an exploratory data analysis that will help in understanding the data. \n"
   ]
  },
  {
   "cell_type": "code",
   "execution_count": 510,
   "metadata": {},
   "outputs": [],
   "source": [
    "#Instantiating spark session\n",
    "from pyspark.sql import SparkSession\n",
    "spark = SparkSession.builder.appName(\"NYC Parking\").getOrCreate()"
   ]
  },
  {
   "cell_type": "code",
   "execution_count": 511,
   "metadata": {},
   "outputs": [],
   "source": [
    "# Reading the data\n",
    "nyc_parking = spark.read.format(\"csv\").option(\"header\", \"true\").load(\"/common_folder/nyc_parking/Parking_Violations_Issued_-_Fiscal_Year_2017.csv\")"
   ]
  },
  {
   "cell_type": "code",
   "execution_count": 512,
   "metadata": {},
   "outputs": [
    {
     "name": "stdout",
     "output_type": "stream",
     "text": [
      "root\n",
      " |-- Summons Number: string (nullable = true)\n",
      " |-- Plate ID: string (nullable = true)\n",
      " |-- Registration State: string (nullable = true)\n",
      " |-- Issue Date: string (nullable = true)\n",
      " |-- Violation Code: string (nullable = true)\n",
      " |-- Vehicle Body Type: string (nullable = true)\n",
      " |-- Vehicle Make: string (nullable = true)\n",
      " |-- Violation Precinct: string (nullable = true)\n",
      " |-- Issuer Precinct: string (nullable = true)\n",
      " |-- Violation Time: string (nullable = true)\n",
      "\n"
     ]
    }
   ],
   "source": [
    "#Checking the schema\n",
    "nyc_parking.printSchema()"
   ]
  },
  {
   "cell_type": "code",
   "execution_count": 513,
   "metadata": {},
   "outputs": [
    {
     "name": "stdout",
     "output_type": "stream",
     "text": [
      "+--------------+--------+------------------+----------+--------------+-----------------+------------+------------------+---------------+--------------+\n",
      "|Summons Number|Plate ID|Registration State|Issue Date|Violation Code|Vehicle Body Type|Vehicle Make|Violation Precinct|Issuer Precinct|Violation Time|\n",
      "+--------------+--------+------------------+----------+--------------+-----------------+------------+------------------+---------------+--------------+\n",
      "|    5092469481| GZH7067|                NY|2016-07-10|             7|             SUBN|       TOYOT|                 0|              0|         0143A|\n",
      "|    5092451658| GZH7067|                NY|2016-07-08|             7|             SUBN|       TOYOT|                 0|              0|         0400P|\n",
      "|    4006265037| FZX9232|                NY|2016-08-23|             5|             SUBN|        FORD|                 0|              0|         0233P|\n",
      "|    8478629828| 66623ME|                NY|2017-06-14|            47|             REFG|       MITSU|                14|             14|         1120A|\n",
      "|    7868300310| 37033JV|                NY|2016-11-21|            69|             DELV|       INTER|                13|             13|         0555P|\n",
      "+--------------+--------+------------------+----------+--------------+-----------------+------------+------------------+---------------+--------------+\n",
      "only showing top 5 rows\n",
      "\n"
     ]
    }
   ],
   "source": [
    "#Checking the records\n",
    "nyc_parking.show(5)"
   ]
  },
  {
   "cell_type": "code",
   "execution_count": 514,
   "metadata": {},
   "outputs": [
    {
     "data": {
      "text/plain": [
       "10803028"
      ]
     },
     "execution_count": 514,
     "metadata": {},
     "output_type": "execute_result"
    }
   ],
   "source": [
    "#Checking the number of records\n",
    "nyc_parking.count()"
   ]
  },
  {
   "cell_type": "code",
   "execution_count": 515,
   "metadata": {},
   "outputs": [
    {
     "data": {
      "text/plain": [
       "['Summons Number',\n",
       " 'Plate ID',\n",
       " 'Registration State',\n",
       " 'Issue Date',\n",
       " 'Violation Code',\n",
       " 'Vehicle Body Type',\n",
       " 'Vehicle Make',\n",
       " 'Violation Precinct',\n",
       " 'Issuer Precinct',\n",
       " 'Violation Time']"
      ]
     },
     "execution_count": 515,
     "metadata": {},
     "output_type": "execute_result"
    }
   ],
   "source": [
    "#Checking the columns\n",
    "nyc_parking.columns"
   ]
  },
  {
   "cell_type": "code",
   "execution_count": 516,
   "metadata": {},
   "outputs": [
    {
     "name": "stdout",
     "output_type": "stream",
     "text": [
      "+--------------+-------+\n",
      "|Violation Code|  count|\n",
      "+--------------+-------+\n",
      "|            21|1528588|\n",
      "|            36|1400614|\n",
      "|            38|1062304|\n",
      "|            14| 893498|\n",
      "|            20| 618593|\n",
      "+--------------+-------+\n",
      "only showing top 5 rows\n",
      "\n"
     ]
    }
   ],
   "source": [
    "violation_count=nyc_parking.groupBy(\"Violation Code\").count().sort(\"count\", ascending=False)\n",
    "violation_count.show(5)"
   ]
  },
  {
   "cell_type": "code",
   "execution_count": 611,
   "metadata": {},
   "outputs": [
    {
     "data": {
      "text/plain": [
       "<matplotlib.axes._subplots.AxesSubplot at 0x7ff578081278>"
      ]
     },
     "execution_count": 611,
     "metadata": {},
     "output_type": "execute_result"
    },
    {
     "data": {
      "text/plain": [
       "<Figure size 3600x3600 with 0 Axes>"
      ]
     },
     "metadata": {},
     "output_type": "display_data"
    },
    {
     "data": {
      "image/png": "[encoded data removed]",
      "text/plain": [
       "<Figure size 432x288 with 1 Axes>"
      ]
     },
     "metadata": {},
     "output_type": "display_data"
    }
   ],
   "source": [
    "import pandas as pd\n",
    "import matplotlib.pyplot as plt\n",
    "plt.figure(figsize=(50,50))\n",
    "nyc_df=violation_count.toPandas()\n",
    "nyc_df.plot(x='Violation Code',y='count',kind='barh',rot=45)"
   ]
  },
  {
   "cell_type": "code",
   "execution_count": 518,
   "metadata": {},
   "outputs": [
    {
     "name": "stdout",
     "output_type": "stream",
     "text": [
      "+------------------+-------+\n",
      "|Registration State|  count|\n",
      "+------------------+-------+\n",
      "|                NY|8481061|\n",
      "|                NJ| 925965|\n",
      "|                PA| 285419|\n",
      "|                FL| 144556|\n",
      "|                CT| 141088|\n",
      "+------------------+-------+\n",
      "only showing top 5 rows\n",
      "\n"
     ]
    }
   ],
   "source": [
    "state_count=nyc_parking.groupBy(\"Registration State\").count().sort(\"count\", ascending=False)\n",
    "state_count.show(5)"
   ]
  },
  {
   "cell_type": "code",
   "execution_count": 612,
   "metadata": {},
   "outputs": [
    {
     "data": {
      "text/plain": [
       "<matplotlib.axes._subplots.AxesSubplot at 0x7ff56efd9390>"
      ]
     },
     "execution_count": 612,
     "metadata": {},
     "output_type": "execute_result"
    },
    {
     "data": {
      "text/plain": [
       "<Figure size 3600x3600 with 0 Axes>"
      ]
     },
     "metadata": {},
     "output_type": "display_data"
    },
    {
     "data": {
      "image/png": "[encoded data removed]",
      "text/plain": [
       "<Figure size 432x288 with 1 Axes>"
      ]
     },
     "metadata": {},
     "output_type": "display_data"
    }
   ],
   "source": [
    "import pandas as pd\n",
    "import matplotlib.pyplot as plt\n",
    "plt.figure(figsize=(50,50))\n",
    "nyc_df=state_count.toPandas()\n",
    "nyc_df.plot(x='Registration State',y='count',kind='barh')"
   ]
  },
  {
   "cell_type": "code",
   "execution_count": 520,
   "metadata": {},
   "outputs": [],
   "source": [
    "#Creating table view for the data\n",
    "nyc_parking.createOrReplaceTempView(\"nyc_parking_table\")"
   ]
  },
  {
   "cell_type": "markdown",
   "metadata": {},
   "source": [
    "### Examine the data"
   ]
  },
  {
   "cell_type": "code",
   "execution_count": 521,
   "metadata": {},
   "outputs": [
    {
     "data": {
      "text/plain": [
       "10803028"
      ]
     },
     "execution_count": 521,
     "metadata": {},
     "output_type": "execute_result"
    }
   ],
   "source": [
    "#Checking the total number of tickets for the year\n",
    "nyc_parking.select('Summons Number').distinct().count()"
   ]
  },
  {
   "cell_type": "markdown",
   "metadata": {},
   "source": [
    "#### The total number of tickets for the year : 10803028 "
   ]
  },
  {
   "cell_type": "code",
   "execution_count": 522,
   "metadata": {},
   "outputs": [
    {
     "data": {
      "text/plain": [
       "67"
      ]
     },
     "execution_count": 522,
     "metadata": {},
     "output_type": "execute_result"
    }
   ],
   "source": [
    "#Checking the number of unique states from where the cars that got parking tickets came.\n",
    "nyc_parking.select('Registration State').distinct().count()"
   ]
  },
  {
   "cell_type": "code",
   "execution_count": 523,
   "metadata": {},
   "outputs": [
    {
     "data": {
      "text/plain": [
       "36625"
      ]
     },
     "execution_count": 523,
     "metadata": {},
     "output_type": "execute_result"
    }
   ],
   "source": [
    "#Checking the count of invalid  registration states\n",
    "nyc_parking.filter(nyc_parking[\"Registration State\"]=='99').count()"
   ]
  },
  {
   "cell_type": "code",
   "execution_count": 524,
   "metadata": {},
   "outputs": [
    {
     "data": {
      "text/plain": [
       "[Row(Registration State='NY', count=8481061)]"
      ]
     },
     "execution_count": 524,
     "metadata": {},
     "output_type": "execute_result"
    }
   ],
   "source": [
    "#Checking the state that has maximum entries\n",
    "nyc_parking.groupBy(\"Registration State\").count().sort(\"count\", ascending=False).take(1)"
   ]
  },
  {
   "cell_type": "code",
   "execution_count": 525,
   "metadata": {},
   "outputs": [],
   "source": [
    "#Replacing the invalid registration state 99 with the state with max number of entries\n",
    "from pyspark.sql.functions import when,lit\n",
    "nyc_parking=nyc_parking.withColumn(\"Registration State\", when(nyc_parking[\"Registration State\"]==\"99\",lit(\"NY\")).otherwise(nyc_parking[\"Registration State\"]))"
   ]
  },
  {
   "cell_type": "code",
   "execution_count": 526,
   "metadata": {},
   "outputs": [
    {
     "data": {
      "text/plain": [
       "0"
      ]
     },
     "execution_count": 526,
     "metadata": {},
     "output_type": "execute_result"
    }
   ],
   "source": [
    "#Checking the count of invalid  registration states\n",
    "nyc_parking.filter(nyc_parking[\"Registration State\"]=='99').count()"
   ]
  },
  {
   "cell_type": "code",
   "execution_count": 527,
   "metadata": {},
   "outputs": [
    {
     "data": {
      "text/plain": [
       "[Row(Registration State='NY', count=8517686)]"
      ]
     },
     "execution_count": 527,
     "metadata": {},
     "output_type": "execute_result"
    }
   ],
   "source": [
    "#Checking the state that has maximum entries\n",
    "nyc_parking.groupBy(\"Registration State\").count().sort(\"count\", ascending=False).take(1)"
   ]
  },
  {
   "cell_type": "code",
   "execution_count": 528,
   "metadata": {},
   "outputs": [
    {
     "data": {
      "text/plain": [
       "66"
      ]
     },
     "execution_count": 528,
     "metadata": {},
     "output_type": "execute_result"
    }
   ],
   "source": [
    "#Checking the number of unique states from where the cars that got parking tickets came.\n",
    "nyc_parking.select('Registration State').distinct().count()"
   ]
  },
  {
   "cell_type": "markdown",
   "metadata": {},
   "source": [
    "#### The number of unique states from where the cars that got parking tickets came is 66"
   ]
  },
  {
   "cell_type": "markdown",
   "metadata": {},
   "source": [
    "### Aggregation Tasks"
   ]
  },
  {
   "cell_type": "code",
   "execution_count": 529,
   "metadata": {},
   "outputs": [
    {
     "data": {
      "text/plain": [
       "[Row(Violation Code='21', count=1528588),\n",
       " Row(Violation Code='36', count=1400614),\n",
       " Row(Violation Code='38', count=1062304),\n",
       " Row(Violation Code='14', count=893498),\n",
       " Row(Violation Code='20', count=618593)]"
      ]
     },
     "execution_count": 529,
     "metadata": {},
     "output_type": "execute_result"
    }
   ],
   "source": [
    "#Checking the frequency of each violation code\n",
    "nyc_parking.groupBy(\"Violation Code\").count().sort(\"count\", ascending=False).take(5)"
   ]
  },
  {
   "cell_type": "markdown",
   "metadata": {},
   "source": [
    "#### The frequency of the top five violation codes are:\n",
    "#### Violation Code='21': 1528588\n",
    "#### Violation Code='36': 1400614\n",
    "#### Violation Code='38': 1062304\n",
    "#### Violation Code='14': 893498\n",
    "#### Violation Code='20': 618593"
   ]
  },
  {
   "cell_type": "code",
   "execution_count": 530,
   "metadata": {},
   "outputs": [
    {
     "data": {
      "text/plain": [
       "[Row(Vehicle Body Type='SUBN', count=3719802),\n",
       " Row(Vehicle Body Type='4DSD', count=3082020),\n",
       " Row(Vehicle Body Type='VAN', count=1411970),\n",
       " Row(Vehicle Body Type='DELV', count=687330),\n",
       " Row(Vehicle Body Type='SDN', count=438191)]"
      ]
     },
     "execution_count": 530,
     "metadata": {},
     "output_type": "execute_result"
    }
   ],
   "source": [
    "#Checking the frequency of each 'vehicle body type' getting a parking ticket\n",
    "nyc_parking.groupBy(\"Vehicle Body Type\").count().sort(\"count\", ascending=False).take(5)"
   ]
  },
  {
   "cell_type": "markdown",
   "metadata": {},
   "source": [
    "#### The frequency of the top five vehicle body types :\n",
    "#### Vehicle Body Type='SUBN': 3719802\n",
    "#### Vehicle Body Type='4DSD: 3082020\n",
    "#### Vehicle Body Type='VAN': 1411970\n",
    "#### Vehicle Body Type='DELV': 687330\n",
    "#### Vehicle Body Type='SDN': 438191"
   ]
  },
  {
   "cell_type": "code",
   "execution_count": 531,
   "metadata": {},
   "outputs": [
    {
     "data": {
      "text/plain": [
       "[Row(Vehicle Make='FORD', count=1280958),\n",
       " Row(Vehicle Make='TOYOT', count=1211451),\n",
       " Row(Vehicle Make='HONDA', count=1079238),\n",
       " Row(Vehicle Make='NISSA', count=918590),\n",
       " Row(Vehicle Make='CHEVR', count=714655)]"
      ]
     },
     "execution_count": 531,
     "metadata": {},
     "output_type": "execute_result"
    }
   ],
   "source": [
    "#Checking the frequency of each 'vehicle make' getting a parking ticket\n",
    "nyc_parking.groupBy(\"Vehicle Make\").count().sort(\"count\", ascending=False).take(5)"
   ]
  },
  {
   "cell_type": "markdown",
   "metadata": {},
   "source": [
    "#### The frequency of the top five vehicle make :\n",
    "#### Vehicle Make='FORD': 1280958\n",
    "#### Vehicle Make='TOYOT': 1211451\n",
    "#### Vehicle Make='HONDA': 1079238\n",
    "#### Vehicle Make='NISSA': 918590\n",
    "#### Vehicle Make='CHEVR': 714655"
   ]
  },
  {
   "cell_type": "code",
   "execution_count": 532,
   "metadata": {},
   "outputs": [
    {
     "data": {
      "text/plain": [
       "[Row(Violation Precinct='0', count=2072400),\n",
       " Row(Violation Precinct='19', count=535671),\n",
       " Row(Violation Precinct='14', count=352450),\n",
       " Row(Violation Precinct='1', count=331810),\n",
       " Row(Violation Precinct='18', count=306920),\n",
       " Row(Violation Precinct='114', count=296514),\n",
       " Row(Violation Precinct='13', count=246595),\n",
       " Row(Violation Precinct='109', count=218141),\n",
       " Row(Violation Precinct='17', count=193024),\n",
       " Row(Violation Precinct='70', count=192831),\n",
       " Row(Violation Precinct='115', count=174332),\n",
       " Row(Violation Precinct='84', count=171079),\n",
       " Row(Violation Precinct='61', count=166997),\n",
       " Row(Violation Precinct='20', count=163992),\n",
       " Row(Violation Precinct='108', count=159276),\n",
       " Row(Violation Precinct='52', count=152046),\n",
       " Row(Violation Precinct='66', count=150370),\n",
       " Row(Violation Precinct='112', count=148314),\n",
       " Row(Violation Precinct='103', count=144607),\n",
       " Row(Violation Precinct='90', count=143443),\n",
       " Row(Violation Precinct='6', count=136189),\n",
       " Row(Violation Precinct='62', count=132853),\n",
       " Row(Violation Precinct='5', count=132547),\n",
       " Row(Violation Precinct='9', count=131792),\n",
       " Row(Violation Precinct='46', count=128546),\n",
       " Row(Violation Precinct='104', count=124074),\n",
       " Row(Violation Precinct='110', count=123854),\n",
       " Row(Violation Precinct='10', count=120840),\n",
       " Row(Violation Precinct='68', count=116279),\n",
       " Row(Violation Precinct='24', count=115283),\n",
       " Row(Violation Precinct='43', count=115120),\n",
       " Row(Violation Precinct='102', count=108362),\n",
       " Row(Violation Precinct='49', count=108152),\n",
       " Row(Violation Precinct='34', count=104983),\n",
       " Row(Violation Precinct='78', count=104815),\n",
       " Row(Violation Precinct='23', count=101576),\n",
       " Row(Violation Precinct='94', count=100296),\n",
       " Row(Violation Precinct='67', count=97105),\n",
       " Row(Violation Precinct='44', count=93750),\n",
       " Row(Violation Precinct='47', count=92888),\n",
       " Row(Violation Precinct='107', count=91380),\n",
       " Row(Violation Precinct='79', count=90972),\n",
       " Row(Violation Precinct='48', count=90587),\n",
       " Row(Violation Precinct='33', count=87972),\n",
       " Row(Violation Precinct='72', count=86504),\n",
       " Row(Violation Precinct='7', count=84155),\n",
       " Row(Violation Precinct='75', count=83736),\n",
       " Row(Violation Precinct='28', count=81286),\n",
       " Row(Violation Precinct='77', count=79889),\n",
       " Row(Violation Precinct='40', count=78569),\n",
       " Row(Violation Precinct='88', count=78240),\n",
       " Row(Violation Precinct='45', count=74733),\n",
       " Row(Violation Precinct='83', count=74125),\n",
       " Row(Violation Precinct='106', count=70980),\n",
       " Row(Violation Precinct='71', count=67792),\n",
       " Row(Violation Precinct='63', count=67367),\n",
       " Row(Violation Precinct='50', count=65674),\n",
       " Row(Violation Precinct='105', count=61945),\n",
       " Row(Violation Precinct='60', count=60339),\n",
       " Row(Violation Precinct='25', count=57377),\n",
       " Row(Violation Precinct='32', count=56585),\n",
       " Row(Violation Precinct='26', count=53522),\n",
       " Row(Violation Precinct='120', count=48962),\n",
       " Row(Violation Precinct='41', count=48610),\n",
       " Row(Violation Precinct='30', count=48110),\n",
       " Row(Violation Precinct='111', count=46465),\n",
       " Row(Violation Precinct='42', count=43450),\n",
       " Row(Violation Precinct='73', count=41558),\n",
       " Row(Violation Precinct='69', count=41130),\n",
       " Row(Violation Precinct='76', count=40020),\n",
       " Row(Violation Precinct='81', count=38823),\n",
       " Row(Violation Precinct='122', count=33569),\n",
       " Row(Violation Precinct='113', count=33279),\n",
       " Row(Violation Precinct='121', count=27283),\n",
       " Row(Violation Precinct='100', count=23556),\n",
       " Row(Violation Precinct='101', count=19143),\n",
       " Row(Violation Precinct='123', count=11803),\n",
       " Row(Violation Precinct='22', count=700),\n",
       " Row(Violation Precinct='27', count=479),\n",
       " Row(Violation Precinct='2', count=175),\n",
       " Row(Violation Precinct='16', count=131),\n",
       " Row(Violation Precinct='8', count=117),\n",
       " Row(Violation Precinct='4', count=112),\n",
       " Row(Violation Precinct='89', count=109),\n",
       " Row(Violation Precinct='74', count=85),\n",
       " Row(Violation Precinct='15', count=76),\n",
       " Row(Violation Precinct='116', count=75),\n",
       " Row(Violation Precinct='3', count=72),\n",
       " Row(Violation Precinct='12', count=67),\n",
       " Row(Violation Precinct='87', count=58),\n",
       " Row(Violation Precinct='64', count=58),\n",
       " Row(Violation Precinct='65', count=57),\n",
       " Row(Violation Precinct='117', count=55),\n",
       " Row(Violation Precinct='98', count=54),\n",
       " Row(Violation Precinct='96', count=47),\n",
       " Row(Violation Precinct='36', count=46),\n",
       " Row(Violation Precinct='37', count=43),\n",
       " Row(Violation Precinct='29', count=43),\n",
       " Row(Violation Precinct='80', count=41),\n",
       " Row(Violation Precinct='11', count=40),\n",
       " Row(Violation Precinct='119', count=36),\n",
       " Row(Violation Precinct='118', count=35),\n",
       " Row(Violation Precinct='56', count=35),\n",
       " Row(Violation Precinct='86', count=33),\n",
       " Row(Violation Precinct='39', count=33),\n",
       " Row(Violation Precinct='82', count=31),\n",
       " Row(Violation Precinct='163', count=28),\n",
       " Row(Violation Precinct='21', count=27),\n",
       " Row(Violation Precinct='35', count=26),\n",
       " Row(Violation Precinct='85', count=26),\n",
       " Row(Violation Precinct='92', count=24),\n",
       " Row(Violation Precinct='99', count=22),\n",
       " Row(Violation Precinct='54', count=22),\n",
       " Row(Violation Precinct='53', count=18),\n",
       " Row(Violation Precinct='97', count=18),\n",
       " Row(Violation Precinct='31', count=15),\n",
       " Row(Violation Precinct='38', count=15),\n",
       " Row(Violation Precinct='57', count=15),\n",
       " Row(Violation Precinct='91', count=14),\n",
       " Row(Violation Precinct='805', count=13),\n",
       " Row(Violation Precinct='95', count=13),\n",
       " Row(Violation Precinct='51', count=12),\n",
       " Row(Violation Precinct='93', count=10),\n",
       " Row(Violation Precinct='58', count=8),\n",
       " Row(Violation Precinct='55', count=7),\n",
       " Row(Violation Precinct='803', count=7),\n",
       " Row(Violation Precinct='127', count=7),\n",
       " Row(Violation Precinct='808', count=6),\n",
       " Row(Violation Precinct='125', count=5),\n",
       " Row(Violation Precinct='807', count=4),\n",
       " Row(Violation Precinct='401', count=4),\n",
       " Row(Violation Precinct='164', count=3),\n",
       " Row(Violation Precinct='59', count=3),\n",
       " Row(Violation Precinct='126', count=3),\n",
       " Row(Violation Precinct='180', count=3),\n",
       " Row(Violation Precinct='178', count=3),\n",
       " Row(Violation Precinct='806', count=3),\n",
       " Row(Violation Precinct='130', count=2),\n",
       " Row(Violation Precinct='167', count=2),\n",
       " Row(Violation Precinct='173', count=2),\n",
       " Row(Violation Precinct='141', count=2),\n",
       " Row(Violation Precinct='143', count=2),\n",
       " Row(Violation Precinct='144', count=2),\n",
       " Row(Violation Precinct='415', count=2),\n",
       " Row(Violation Precinct='634', count=2),\n",
       " Row(Violation Precinct='131', count=2),\n",
       " Row(Violation Precinct='201', count=2),\n",
       " Row(Violation Precinct='419', count=2),\n",
       " Row(Violation Precinct='171', count=2),\n",
       " Row(Violation Precinct='166', count=2),\n",
       " Row(Violation Precinct='177', count=2),\n",
       " Row(Violation Precinct='673', count=2),\n",
       " Row(Violation Precinct='172', count=2),\n",
       " Row(Violation Precinct='161', count=2),\n",
       " Row(Violation Precinct='802', count=2),\n",
       " Row(Violation Precinct='170', count=2),\n",
       " Row(Violation Precinct='613', count=1),\n",
       " Row(Violation Precinct='234', count=1),\n",
       " Row(Violation Precinct='649', count=1),\n",
       " Row(Violation Precinct='326', count=1),\n",
       " Row(Violation Precinct='208', count=1),\n",
       " Row(Violation Precinct='864', count=1),\n",
       " Row(Violation Precinct='165', count=1),\n",
       " Row(Violation Precinct='225', count=1),\n",
       " Row(Violation Precinct='260', count=1),\n",
       " Row(Violation Precinct='918', count=1),\n",
       " Row(Violation Precinct='470', count=1),\n",
       " Row(Violation Precinct='711', count=1),\n",
       " Row(Violation Precinct='425', count=1),\n",
       " Row(Violation Precinct='670', count=1),\n",
       " Row(Violation Precinct='824', count=1),\n",
       " Row(Violation Precinct='302', count=1),\n",
       " Row(Violation Precinct='632', count=1),\n",
       " Row(Violation Precinct='241', count=1),\n",
       " Row(Violation Precinct='867', count=1),\n",
       " Row(Violation Precinct='205', count=1),\n",
       " Row(Violation Precinct='878', count=1),\n",
       " Row(Violation Precinct='179', count=1),\n",
       " Row(Violation Precinct='842', count=1),\n",
       " Row(Violation Precinct='230', count=1),\n",
       " Row(Violation Precinct='530', count=1),\n",
       " Row(Violation Precinct='135', count=1),\n",
       " Row(Violation Precinct='683', count=1),\n",
       " Row(Violation Precinct='627', count=1),\n",
       " Row(Violation Precinct='242', count=1),\n",
       " Row(Violation Precinct='860', count=1),\n",
       " Row(Violation Precinct='514', count=1),\n",
       " Row(Violation Precinct='181', count=1),\n",
       " Row(Violation Precinct='301', count=1),\n",
       " Row(Violation Precinct='714', count=1),\n",
       " Row(Violation Precinct='317', count=1),\n",
       " Row(Violation Precinct='202', count=1),\n",
       " Row(Violation Precinct='667', count=1),\n",
       " Row(Violation Precinct='128', count=1),\n",
       " Row(Violation Precinct='193', count=1),\n",
       " Row(Violation Precinct='624', count=1),\n",
       " Row(Violation Precinct='129', count=1),\n",
       " Row(Violation Precinct='124', count=1),\n",
       " Row(Violation Precinct='625', count=1),\n",
       " Row(Violation Precinct='823', count=1),\n",
       " Row(Violation Precinct='146', count=1),\n",
       " Row(Violation Precinct='184', count=1),\n",
       " Row(Violation Precinct='933', count=1),\n",
       " Row(Violation Precinct='183', count=1),\n",
       " Row(Violation Precinct='804', count=1),\n",
       " Row(Violation Precinct='601', count=1),\n",
       " Row(Violation Precinct='263', count=1),\n",
       " Row(Violation Precinct='403', count=1),\n",
       " Row(Violation Precinct='741', count=1),\n",
       " Row(Violation Precinct='877', count=1),\n",
       " Row(Violation Precinct='269', count=1),\n",
       " Row(Violation Precinct='630', count=1),\n",
       " Row(Violation Precinct='721', count=1)]"
      ]
     },
     "execution_count": 532,
     "metadata": {},
     "output_type": "execute_result"
    }
   ],
   "source": [
    "#Checking the frequency of each 'Violation Precinct' getting a parking ticket\n",
    "nyc_parking.groupBy(\"Violation Precinct\").count().sort(\"count\", ascending=False).collect()"
   ]
  },
  {
   "cell_type": "code",
   "execution_count": 533,
   "metadata": {},
   "outputs": [
    {
     "data": {
      "text/plain": [
       "[Row(Violation Precinct='0', count=2072400),\n",
       " Row(Violation Precinct='19', count=535671),\n",
       " Row(Violation Precinct='14', count=352450),\n",
       " Row(Violation Precinct='1', count=331810),\n",
       " Row(Violation Precinct='18', count=306920),\n",
       " Row(Violation Precinct='114', count=296514)]"
      ]
     },
     "execution_count": 533,
     "metadata": {},
     "output_type": "execute_result"
    }
   ],
   "source": [
    "#Checking the frequency of the top five valid violation codes\n",
    "#As '0 is invalid Violation Precinct displaying the records for top six entries after sorting.\n",
    "nyc_parking.groupBy(\"Violation Precinct\").count().sort(\"count\", ascending=False).take(6)"
   ]
  },
  {
   "cell_type": "markdown",
   "metadata": {},
   "source": [
    "#### The frequency of the top five Violation Precincts :\n",
    "#### Violation Precinct='19':535671\n",
    "#### Violation Precinct='14':352450\n",
    "#### Violation Precinct='1':331810\n",
    "#### Violation Precinct='18':306920\n",
    "#### Violation Precinct='114':296514"
   ]
  },
  {
   "cell_type": "code",
   "execution_count": 534,
   "metadata": {},
   "outputs": [
    {
     "data": {
      "text/plain": [
       "[Row(Registration State='NY', count=416114),\n",
       " Row(Registration State='NJ', count=64359),\n",
       " Row(Registration State='CT', count=9209),\n",
       " Row(Registration State='PA', count=9053),\n",
       " Row(Registration State='IN', count=8653)]"
      ]
     },
     "execution_count": 534,
     "metadata": {},
     "output_type": "execute_result"
    }
   ],
   "source": [
    "#Checking the states with highest frequency in the top five Violation Precincts\n",
    "nyc_parking.filter(nyc_parking['Violation Precinct']=='19').groupBy(\"Registration State\").count().sort(\"count\", ascending=False).take(5)"
   ]
  },
  {
   "cell_type": "code",
   "execution_count": 535,
   "metadata": {},
   "outputs": [
    {
     "data": {
      "text/plain": [
       "[Row(Registration State='NY', count=232881),\n",
       " Row(Registration State='NJ', count=73233),\n",
       " Row(Registration State='IN', count=10807),\n",
       " Row(Registration State='PA', count=6545),\n",
       " Row(Registration State='MN', count=3825)]"
      ]
     },
     "execution_count": 535,
     "metadata": {},
     "output_type": "execute_result"
    }
   ],
   "source": [
    "#Checking if the states with highest frequency in the top five Violation Precincts\n",
    "nyc_parking.filter(nyc_parking['Violation Precinct']=='14').groupBy(\"Registration State\").count().sort(\"count\", ascending=False).take(5)"
   ]
  },
  {
   "cell_type": "code",
   "execution_count": 536,
   "metadata": {},
   "outputs": [
    {
     "data": {
      "text/plain": [
       "[Row(Registration State='NY', count=236237),\n",
       " Row(Registration State='NJ', count=55640),\n",
       " Row(Registration State='PA', count=6219),\n",
       " Row(Registration State='IN', count=5066),\n",
       " Row(Registration State='CT', count=4320)]"
      ]
     },
     "execution_count": 536,
     "metadata": {},
     "output_type": "execute_result"
    }
   ],
   "source": [
    "#Checking if the states with highest frequency in the top five Violation Precincts\n",
    "nyc_parking.filter(nyc_parking['Violation Precinct']=='1').groupBy(\"Registration State\").count().sort(\"count\", ascending=False).take(5)"
   ]
  },
  {
   "cell_type": "code",
   "execution_count": 537,
   "metadata": {},
   "outputs": [
    {
     "data": {
      "text/plain": [
       "[Row(Registration State='NY', count=200594),\n",
       " Row(Registration State='NJ', count=61184),\n",
       " Row(Registration State='IN', count=11413),\n",
       " Row(Registration State='PA', count=6339),\n",
       " Row(Registration State='CT', count=4202)]"
      ]
     },
     "execution_count": 537,
     "metadata": {},
     "output_type": "execute_result"
    }
   ],
   "source": [
    "#Checking if the states with highest frequency in the top five Violation Precincts\n",
    "nyc_parking.filter(nyc_parking['Violation Precinct']=='18').groupBy(\"Registration State\").count().sort(\"count\", ascending=False).take(5)"
   ]
  },
  {
   "cell_type": "code",
   "execution_count": 538,
   "metadata": {},
   "outputs": [
    {
     "data": {
      "text/plain": [
       "[Row(Registration State='NY', count=249486),\n",
       " Row(Registration State='NJ', count=15642),\n",
       " Row(Registration State='PA', count=5693),\n",
       " Row(Registration State='CT', count=3937),\n",
       " Row(Registration State='FL', count=3806)]"
      ]
     },
     "execution_count": 538,
     "metadata": {},
     "output_type": "execute_result"
    }
   ],
   "source": [
    "#Checking if the states with highest frequency in the top five Violation Precincts\n",
    "nyc_parking.filter(nyc_parking['Violation Precinct']=='114').groupBy(\"Registration State\").count().sort(\"count\", ascending=False).take(5)"
   ]
  },
  {
   "cell_type": "markdown",
   "metadata": {},
   "source": [
    "#### NY and NJ has the highest number of parking violations  in all of the top five Violation Precincts"
   ]
  },
  {
   "cell_type": "code",
   "execution_count": 539,
   "metadata": {},
   "outputs": [
    {
     "data": {
      "text/plain": [
       "[Row(Issuer Precinct='0', count=2388479),\n",
       " Row(Issuer Precinct='19', count=521513),\n",
       " Row(Issuer Precinct='14', count=344977),\n",
       " Row(Issuer Precinct='1', count=321170),\n",
       " Row(Issuer Precinct='18', count=296553),\n",
       " Row(Issuer Precinct='114', count=289950)]"
      ]
     },
     "execution_count": 539,
     "metadata": {},
     "output_type": "execute_result"
    }
   ],
   "source": [
    "#Checking the frequency of each 'Issuing Precinct' getting a parking ticket\n",
    "nyc_parking.groupBy(\"Issuer Precinct\").count().sort(\"count\", ascending=False).take(6)"
   ]
  },
  {
   "cell_type": "markdown",
   "metadata": {},
   "source": [
    "#### The frequency of the top five Issuer Precincts :\n",
    "#### Issuer Precinct='19':521513\n",
    "#### Issuer Precinct='14':344977\n",
    "#### Issuer Precinct='1':321170\n",
    "#### Issuer Precinct='18':296553\n",
    "#### Issuer Precinct='114':289950"
   ]
  },
  {
   "cell_type": "code",
   "execution_count": 540,
   "metadata": {},
   "outputs": [
    {
     "data": {
      "text/plain": [
       "[Row(Issuer Precinct='0', Registration State='NY', count=1974434),\n",
       " Row(Issuer Precinct='19', Registration State='NY', count=405074),\n",
       " Row(Issuer Precinct='114', Registration State='NY', count=244046),\n",
       " Row(Issuer Precinct='1', Registration State='NY', count=228990),\n",
       " Row(Issuer Precinct='14', Registration State='NY', count=227876),\n",
       " Row(Issuer Precinct='18', Registration State='NY', count=192930)]"
      ]
     },
     "execution_count": 540,
     "metadata": {},
     "output_type": "execute_result"
    }
   ],
   "source": [
    "#Checking the frequency of the top five valid violation codes\n",
    "#As '0 is invalid Issuer Precinct displaying the records for top six entries after sorting.\n",
    "nyc_parking.groupBy('Issuer Precinct','Registration State').count().sort(\"count\", ascending=False).take(6)"
   ]
  },
  {
   "cell_type": "markdown",
   "metadata": {},
   "source": [
    "#### NY has the highest count in all of the top five Issuer Precincts"
   ]
  },
  {
   "cell_type": "code",
   "execution_count": 541,
   "metadata": {},
   "outputs": [
    {
     "data": {
      "text/plain": [
       "[Row(Violation Code='46', count=86390),\n",
       " Row(Violation Code='37', count=72437),\n",
       " Row(Violation Code='38', count=72344),\n",
       " Row(Violation Code='14', count=57563),\n",
       " Row(Violation Code='21', count=54700)]"
      ]
     },
     "execution_count": 541,
     "metadata": {},
     "output_type": "execute_result"
    }
   ],
   "source": [
    "#Checking the frequency of top five violation codes in top three Issuer Precincts\n",
    "nyc_parking.filter(nyc_parking['Issuer Precinct']=='19').groupBy(\"Violation Code\").count().sort(\"count\", ascending=False).take(5)"
   ]
  },
  {
   "cell_type": "code",
   "execution_count": 542,
   "metadata": {},
   "outputs": [
    {
     "data": {
      "text/plain": [
       "[Row(Violation Code='21', count=70611),\n",
       " Row(Violation Code='38', count=54624),\n",
       " Row(Violation Code='37', count=36961),\n",
       " Row(Violation Code='20', count=24022),\n",
       " Row(Violation Code='71', count=20168)]"
      ]
     },
     "execution_count": 542,
     "metadata": {},
     "output_type": "execute_result"
    }
   ],
   "source": [
    "#Checking the frequency of top five violation codes in top three Issuer Precincts\n",
    "nyc_parking.filter(nyc_parking['Issuer Precinct']=='114').groupBy(\"Violation Code\").count().sort(\"count\", ascending=False).take(5)"
   ]
  },
  {
   "cell_type": "code",
   "execution_count": 543,
   "metadata": {},
   "outputs": [
    {
     "data": {
      "text/plain": [
       "[Row(Violation Code='14', count=73522),\n",
       " Row(Violation Code='16', count=38937),\n",
       " Row(Violation Code='20', count=27841),\n",
       " Row(Violation Code='46', count=22534),\n",
       " Row(Violation Code='38', count=16989)]"
      ]
     },
     "execution_count": 543,
     "metadata": {},
     "output_type": "execute_result"
    }
   ],
   "source": [
    "#Checking the frequency of top five violation codes in top three Issuer Precincts\n",
    "nyc_parking.filter(nyc_parking['Issuer Precinct']=='1').groupBy(\"Violation Code\").count().sort(\"count\", ascending=False).take(5)"
   ]
  },
  {
   "cell_type": "markdown",
   "metadata": {},
   "source": [
    "#### Yes, the top three Issuer Precinct zones have an exceptionally high frequency of certain violation codes.\n",
    "#### Violation Code='14' is common among the three top Issuer Precincts"
   ]
  },
  {
   "cell_type": "code",
   "execution_count": 544,
   "metadata": {},
   "outputs": [
    {
     "name": "stdout",
     "output_type": "stream",
     "text": [
      "+--------------+--------+------------------+----------+--------------+-----------------+------------+------------------+---------------+--------------+\n",
      "|Summons Number|Plate ID|Registration State|Issue Date|Violation Code|Vehicle Body Type|Vehicle Make|Violation Precinct|Issuer Precinct|Violation Time|\n",
      "+--------------+--------+------------------+----------+--------------+-----------------+------------+------------------+---------------+--------------+\n",
      "|             0|       0|                 0|         0|             0|                0|           0|                 0|              0|             0|\n",
      "+--------------+--------+------------------+----------+--------------+-----------------+------------+------------------+---------------+--------------+\n",
      "\n"
     ]
    }
   ],
   "source": [
    "#Checking for the null values\n",
    "from pyspark.sql.functions import count,col\n",
    "\n",
    "nyc_parking.select([count(when(col(c).isNull(), c)).alias(c) for c in nyc_parking.columns]).show()"
   ]
  },
  {
   "cell_type": "code",
   "execution_count": 545,
   "metadata": {},
   "outputs": [
    {
     "data": {
      "text/plain": [
       "0"
      ]
     },
     "execution_count": 545,
     "metadata": {},
     "output_type": "execute_result"
    }
   ],
   "source": [
    "#Checking for null values in each column\n",
    "nyc_parking.where(col(\"Summons Number\").isNull()).count()"
   ]
  },
  {
   "cell_type": "code",
   "execution_count": 546,
   "metadata": {},
   "outputs": [
    {
     "data": {
      "text/plain": [
       "0"
      ]
     },
     "execution_count": 546,
     "metadata": {},
     "output_type": "execute_result"
    }
   ],
   "source": [
    "#Checking for null values in each column\n",
    "nyc_parking.where(col(\"Plate ID\").isNull()).count()"
   ]
  },
  {
   "cell_type": "code",
   "execution_count": 547,
   "metadata": {},
   "outputs": [
    {
     "data": {
      "text/plain": [
       "0"
      ]
     },
     "execution_count": 547,
     "metadata": {},
     "output_type": "execute_result"
    }
   ],
   "source": [
    "#Checking for null values in each column\n",
    "nyc_parking.where(col(\"Registration State\").isNull()).count()"
   ]
  },
  {
   "cell_type": "code",
   "execution_count": 548,
   "metadata": {},
   "outputs": [
    {
     "data": {
      "text/plain": [
       "0"
      ]
     },
     "execution_count": 548,
     "metadata": {},
     "output_type": "execute_result"
    }
   ],
   "source": [
    "#Checking for null values in each column\n",
    "nyc_parking.where(col(\"Issue Date\").isNull()).count()"
   ]
  },
  {
   "cell_type": "code",
   "execution_count": 549,
   "metadata": {},
   "outputs": [
    {
     "data": {
      "text/plain": [
       "0"
      ]
     },
     "execution_count": 549,
     "metadata": {},
     "output_type": "execute_result"
    }
   ],
   "source": [
    "#Checking for null values in each column\n",
    "nyc_parking.where(col(\"Violation Code\").isNull()).count()"
   ]
  },
  {
   "cell_type": "code",
   "execution_count": 550,
   "metadata": {},
   "outputs": [
    {
     "data": {
      "text/plain": [
       "0"
      ]
     },
     "execution_count": 550,
     "metadata": {},
     "output_type": "execute_result"
    }
   ],
   "source": [
    "#Checking for null values in each column\n",
    "nyc_parking.where(col(\"Vehicle Body Type\").isNull()).count()"
   ]
  },
  {
   "cell_type": "code",
   "execution_count": 551,
   "metadata": {},
   "outputs": [
    {
     "data": {
      "text/plain": [
       "0"
      ]
     },
     "execution_count": 551,
     "metadata": {},
     "output_type": "execute_result"
    }
   ],
   "source": [
    "#Checking for null values in each column\n",
    "nyc_parking.where(col(\"Vehicle Make\").isNull()).count()"
   ]
  },
  {
   "cell_type": "code",
   "execution_count": 552,
   "metadata": {},
   "outputs": [
    {
     "data": {
      "text/plain": [
       "0"
      ]
     },
     "execution_count": 552,
     "metadata": {},
     "output_type": "execute_result"
    }
   ],
   "source": [
    "#Checking for null values in each column\n",
    "nyc_parking.where(col(\"Violation Precinct\").isNull()).count()"
   ]
  },
  {
   "cell_type": "code",
   "execution_count": 553,
   "metadata": {},
   "outputs": [
    {
     "data": {
      "text/plain": [
       "0"
      ]
     },
     "execution_count": 553,
     "metadata": {},
     "output_type": "execute_result"
    }
   ],
   "source": [
    "#Checking for null values in each column\n",
    "nyc_parking.where(col(\"Issuer Precinct\").isNull()).count()"
   ]
  },
  {
   "cell_type": "code",
   "execution_count": 554,
   "metadata": {},
   "outputs": [
    {
     "data": {
      "text/plain": [
       "0"
      ]
     },
     "execution_count": 554,
     "metadata": {},
     "output_type": "execute_result"
    }
   ],
   "source": [
    "#Checking for null values in each column\n",
    "nyc_parking.where(col(\"Violation Precinct\").isNull()).count()"
   ]
  },
  {
   "cell_type": "code",
   "execution_count": 555,
   "metadata": {},
   "outputs": [
    {
     "data": {
      "text/plain": [
       "0"
      ]
     },
     "execution_count": 555,
     "metadata": {},
     "output_type": "execute_result"
    }
   ],
   "source": [
    "#Checking for null values in each column\n",
    "nyc_parking.where(col(\"Violation Time\").isNull()).count()"
   ]
  },
  {
   "cell_type": "code",
   "execution_count": 556,
   "metadata": {},
   "outputs": [
    {
     "data": {
      "text/plain": [
       "0"
      ]
     },
     "execution_count": 556,
     "metadata": {},
     "output_type": "execute_result"
    }
   ],
   "source": [
    "#Checking for nan values in each column\n",
    "nyc_parking.where(col(\"Summons Number\") =='nan').count()"
   ]
  },
  {
   "cell_type": "code",
   "execution_count": 557,
   "metadata": {},
   "outputs": [
    {
     "data": {
      "text/plain": [
       "728"
      ]
     },
     "execution_count": 557,
     "metadata": {},
     "output_type": "execute_result"
    }
   ],
   "source": [
    "#Checking for nan values in each column\n",
    "nyc_parking.where(col(\"Plate ID\") =='nan').count()"
   ]
  },
  {
   "cell_type": "code",
   "execution_count": 558,
   "metadata": {},
   "outputs": [
    {
     "data": {
      "text/plain": [
       "0"
      ]
     },
     "execution_count": 558,
     "metadata": {},
     "output_type": "execute_result"
    }
   ],
   "source": [
    "#Checking for nan values in each column\n",
    "nyc_parking.where(col(\"Registration State\") =='nan').count()"
   ]
  },
  {
   "cell_type": "code",
   "execution_count": 559,
   "metadata": {},
   "outputs": [
    {
     "data": {
      "text/plain": [
       "0"
      ]
     },
     "execution_count": 559,
     "metadata": {},
     "output_type": "execute_result"
    }
   ],
   "source": [
    "#Checking for nan values in each column\n",
    "nyc_parking.where(col(\"Issue Date\") =='nan').count()"
   ]
  },
  {
   "cell_type": "code",
   "execution_count": 560,
   "metadata": {},
   "outputs": [
    {
     "data": {
      "text/plain": [
       "0"
      ]
     },
     "execution_count": 560,
     "metadata": {},
     "output_type": "execute_result"
    }
   ],
   "source": [
    "#Checking for nan values in each column\n",
    "nyc_parking.where(col(\"Violation Code\") =='nan').count()"
   ]
  },
  {
   "cell_type": "code",
   "execution_count": 561,
   "metadata": {},
   "outputs": [
    {
     "data": {
      "text/plain": [
       "42711"
      ]
     },
     "execution_count": 561,
     "metadata": {},
     "output_type": "execute_result"
    }
   ],
   "source": [
    "#Checking for nan values in each column\n",
    "nyc_parking.where(col(\"Vehicle Body Type\") =='nan').count()"
   ]
  },
  {
   "cell_type": "code",
   "execution_count": 562,
   "metadata": {},
   "outputs": [
    {
     "data": {
      "text/plain": [
       "73050"
      ]
     },
     "execution_count": 562,
     "metadata": {},
     "output_type": "execute_result"
    }
   ],
   "source": [
    "#Checking for nan values in each column\n",
    "nyc_parking.where(col(\"Vehicle Make\") =='nan').count()"
   ]
  },
  {
   "cell_type": "code",
   "execution_count": 563,
   "metadata": {},
   "outputs": [
    {
     "data": {
      "text/plain": [
       "0"
      ]
     },
     "execution_count": 563,
     "metadata": {},
     "output_type": "execute_result"
    }
   ],
   "source": [
    "#Checking for nan values in each column\n",
    "nyc_parking.where(col(\"Violation Precinct\") =='nan').count()"
   ]
  },
  {
   "cell_type": "code",
   "execution_count": 564,
   "metadata": {},
   "outputs": [
    {
     "data": {
      "text/plain": [
       "0"
      ]
     },
     "execution_count": 564,
     "metadata": {},
     "output_type": "execute_result"
    }
   ],
   "source": [
    "#Checking for nan values in each column\n",
    "nyc_parking.where(col(\"Issuer Precinct\") =='nan').count()"
   ]
  },
  {
   "cell_type": "code",
   "execution_count": 565,
   "metadata": {},
   "outputs": [
    {
     "data": {
      "text/plain": [
       "0"
      ]
     },
     "execution_count": 565,
     "metadata": {},
     "output_type": "execute_result"
    }
   ],
   "source": [
    "nyc_parking.where(col(\"Violation Precinct\") =='nan').count()"
   ]
  },
  {
   "cell_type": "code",
   "execution_count": 566,
   "metadata": {},
   "outputs": [
    {
     "data": {
      "text/plain": [
       "63"
      ]
     },
     "execution_count": 566,
     "metadata": {},
     "output_type": "execute_result"
    }
   ],
   "source": [
    "#Checking for nan values in each column\n",
    "nyc_parking.where(col(\"Violation Time\") =='nan').count()"
   ]
  },
  {
   "cell_type": "markdown",
   "metadata": {},
   "source": [
    "#### There are no null values.The following columns have nan values:\n",
    "#### \"Plate ID\":728\n",
    "#### \"Vehicle Body Type\":42711\n",
    "#### \"Vehicle Make\":73050\n",
    "#### \"Violation Time\":63"
   ]
  },
  {
   "cell_type": "code",
   "execution_count": 567,
   "metadata": {},
   "outputs": [
    {
     "data": {
      "text/plain": [
       "10803028"
      ]
     },
     "execution_count": 567,
     "metadata": {},
     "output_type": "execute_result"
    }
   ],
   "source": [
    "nyc_parking.count()"
   ]
  },
  {
   "cell_type": "code",
   "execution_count": 568,
   "metadata": {},
   "outputs": [],
   "source": [
    "#Removing the nan values from the data set\n",
    "nyc_parking=nyc_parking.filter(nyc_parking[\"Plate ID\"] !='nan')\n",
    "nyc_parking=nyc_parking.filter(nyc_parking[\"Vehicle Body Type\"] !='nan')\n",
    "nyc_parking=nyc_parking.filter(nyc_parking[\"Vehicle Make\"] !='nan')\n",
    "nyc_parking=nyc_parking.filter(nyc_parking[\"Violation Time\"] !='nan')"
   ]
  },
  {
   "cell_type": "code",
   "execution_count": 569,
   "metadata": {},
   "outputs": [
    {
     "data": {
      "text/plain": [
       "0"
      ]
     },
     "execution_count": 569,
     "metadata": {},
     "output_type": "execute_result"
    }
   ],
   "source": [
    "#Checking if the nan values are removed\n",
    "nyc_parking.where(col(\"Plate ID\") =='nan').count()"
   ]
  },
  {
   "cell_type": "code",
   "execution_count": 570,
   "metadata": {},
   "outputs": [
    {
     "data": {
      "text/plain": [
       "0"
      ]
     },
     "execution_count": 570,
     "metadata": {},
     "output_type": "execute_result"
    }
   ],
   "source": [
    "#Checking if the nan values are removed\n",
    "nyc_parking.where(col(\"Vehicle Body Type\") =='nan').count()"
   ]
  },
  {
   "cell_type": "code",
   "execution_count": 571,
   "metadata": {},
   "outputs": [
    {
     "data": {
      "text/plain": [
       "0"
      ]
     },
     "execution_count": 571,
     "metadata": {},
     "output_type": "execute_result"
    }
   ],
   "source": [
    "#Checking if the nan values are removed\n",
    "nyc_parking.where(col(\"Vehicle Make\") =='nan').count()"
   ]
  },
  {
   "cell_type": "code",
   "execution_count": 572,
   "metadata": {},
   "outputs": [
    {
     "data": {
      "text/plain": [
       "0"
      ]
     },
     "execution_count": 572,
     "metadata": {},
     "output_type": "execute_result"
    }
   ],
   "source": [
    "#Checking if the nan values are removed\n",
    "nyc_parking.where(col(\"Violation Time\") =='nan').count()"
   ]
  },
  {
   "cell_type": "code",
   "execution_count": 573,
   "metadata": {},
   "outputs": [
    {
     "data": {
      "text/plain": [
       "10697443"
      ]
     },
     "execution_count": 573,
     "metadata": {},
     "output_type": "execute_result"
    }
   ],
   "source": [
    "nyc_parking.count()"
   ]
  },
  {
   "cell_type": "code",
   "execution_count": 574,
   "metadata": {},
   "outputs": [],
   "source": [
    "#Creating a new column Violation_Time_24Hrs to store violation time in 24 hrs format\n",
    "nyc_parking =nyc_parking.withColumn(\"Violation_Time_24Hrs\", nyc_parking['Violation Time'].substr(0,4).cast(\"Int\"))"
   ]
  },
  {
   "cell_type": "code",
   "execution_count": 575,
   "metadata": {},
   "outputs": [
    {
     "data": {
      "text/plain": [
       "16045"
      ]
     },
     "execution_count": 575,
     "metadata": {},
     "output_type": "execute_result"
    }
   ],
   "source": [
    "#Checking for erroneous records with invalid Violation Time in data\n",
    "nyc_parking.select(\"Violation Time\",\"Violation_Time_24Hrs\").filter(nyc_parking[\"Violation_Time_24Hrs\"]>=1259).count()"
   ]
  },
  {
   "cell_type": "code",
   "execution_count": 576,
   "metadata": {},
   "outputs": [
    {
     "data": {
      "text/plain": [
       "[Row(Violation Time='8755P', Violation_Time_24Hrs=8755),\n",
       " Row(Violation Time='8735P', Violation_Time_24Hrs=8735),\n",
       " Row(Violation Time='8732P', Violation_Time_24Hrs=8732),\n",
       " Row(Violation Time='8722P', Violation_Time_24Hrs=8722),\n",
       " Row(Violation Time='8720P', Violation_Time_24Hrs=8720)]"
      ]
     },
     "execution_count": 576,
     "metadata": {},
     "output_type": "execute_result"
    }
   ],
   "source": [
    "#Checking for erroneous records with invalid Violation Time in data\n",
    "nyc_parking.select(\"Violation Time\",\"Violation_Time_24Hrs\").sort(\"Violation_Time_24Hrs\", ascending=False).take(5)"
   ]
  },
  {
   "cell_type": "code",
   "execution_count": 577,
   "metadata": {},
   "outputs": [],
   "source": [
    "#Converting the violation time into 24hrs format\n",
    "nyc_parking =nyc_parking.withColumn(\"Violation_Time_24Hrs\", when(nyc_parking[\"Violation Time\"].endswith('P'), nyc_parking['Violation_Time_24Hrs']+1200).otherwise(nyc_parking['Violation_Time_24Hrs']))"
   ]
  },
  {
   "cell_type": "code",
   "execution_count": 578,
   "metadata": {},
   "outputs": [
    {
     "name": "stdout",
     "output_type": "stream",
     "text": [
      "+--------------+--------------------+\n",
      "|Violation Time|Violation_Time_24Hrs|\n",
      "+--------------+--------------------+\n",
      "|         0143A|                 143|\n",
      "|         0400P|                1600|\n",
      "|         0233P|                1433|\n",
      "|         1120A|                1120|\n",
      "|         0555P|                1755|\n",
      "|         0852P|                2052|\n",
      "|         0215A|                 215|\n",
      "|         0758A|                 758|\n",
      "|         1005A|                1005|\n",
      "|         0845A|                 845|\n",
      "+--------------+--------------------+\n",
      "only showing top 10 rows\n",
      "\n"
     ]
    }
   ],
   "source": [
    "#Checking the records after Converting the violation time into 24hrs format\n",
    "nyc_parking.select('Violation Time','Violation_Time_24Hrs').show(10)"
   ]
  },
  {
   "cell_type": "code",
   "execution_count": 579,
   "metadata": {},
   "outputs": [],
   "source": [
    "#Removing erroneous records with invalid Violation Time in data\n",
    "nyc_parking=nyc_parking.filter(nyc_parking[\"Violation_Time_24Hrs\"]<=2400)"
   ]
  },
  {
   "cell_type": "markdown",
   "metadata": {},
   "source": [
    "#### Created a new column Violation_Time_24hrs so that it can be divided into six equal discrete bins"
   ]
  },
  {
   "cell_type": "code",
   "execution_count": 580,
   "metadata": {},
   "outputs": [],
   "source": [
    "#Dividing 24 hours into six equal discrete bins of time using bucketing\n",
    "from pyspark.ml.feature import Bucketizer\n",
    "bucketBorders = [0,400,800,1000,1600,2000,2400]\n",
    "bucketer = Bucketizer().setSplits(bucketBorders).setInputCol(\"Violation_Time_24Hrs\").setOutputCol(\"Violation_Time_Bins\")\n",
    "nyc_parking=bucketer.transform(nyc_parking)"
   ]
  },
  {
   "cell_type": "code",
   "execution_count": 581,
   "metadata": {},
   "outputs": [
    {
     "name": "stdout",
     "output_type": "stream",
     "text": [
      "+--------------+--------+------------------+----------+--------------+-----------------+------------+------------------+---------------+--------------+--------------------+-------------------+\n",
      "|Summons Number|Plate ID|Registration State|Issue Date|Violation Code|Vehicle Body Type|Vehicle Make|Violation Precinct|Issuer Precinct|Violation Time|Violation_Time_24Hrs|Violation_Time_Bins|\n",
      "+--------------+--------+------------------+----------+--------------+-----------------+------------+------------------+---------------+--------------+--------------------+-------------------+\n",
      "|    5092469481| GZH7067|                NY|2016-07-10|             7|             SUBN|       TOYOT|                 0|              0|         0143A|                 143|                0.0|\n",
      "|    5092451658| GZH7067|                NY|2016-07-08|             7|             SUBN|       TOYOT|                 0|              0|         0400P|                1600|                4.0|\n",
      "|    4006265037| FZX9232|                NY|2016-08-23|             5|             SUBN|        FORD|                 0|              0|         0233P|                1433|                3.0|\n",
      "|    8478629828| 66623ME|                NY|2017-06-14|            47|             REFG|       MITSU|                14|             14|         1120A|                1120|                3.0|\n",
      "|    7868300310| 37033JV|                NY|2016-11-21|            69|             DELV|       INTER|                13|             13|         0555P|                1755|                4.0|\n",
      "+--------------+--------+------------------+----------+--------------+-----------------+------------+------------------+---------------+--------------+--------------------+-------------------+\n",
      "only showing top 5 rows\n",
      "\n"
     ]
    }
   ],
   "source": [
    "nyc_parking.show(5)"
   ]
  },
  {
   "cell_type": "code",
   "execution_count": 582,
   "metadata": {},
   "outputs": [
    {
     "data": {
      "text/plain": [
       "9733188"
      ]
     },
     "execution_count": 582,
     "metadata": {},
     "output_type": "execute_result"
    }
   ],
   "source": [
    "#Checking the number of records in the data set\n",
    "nyc_parking.count()"
   ]
  },
  {
   "cell_type": "code",
   "execution_count": 583,
   "metadata": {},
   "outputs": [
    {
     "data": {
      "text/plain": [
       "[Row(Violation_Time_Bins=0.0, count=294359),\n",
       " Row(Violation_Time_Bins=1.0, count=873136),\n",
       " Row(Violation_Time_Bins=4.0, count=1280319),\n",
       " Row(Violation_Time_Bins=3.0, count=4719988),\n",
       " Row(Violation_Time_Bins=2.0, count=2170058),\n",
       " Row(Violation_Time_Bins=5.0, count=395328)]"
      ]
     },
     "execution_count": 583,
     "metadata": {},
     "output_type": "execute_result"
    }
   ],
   "source": [
    "#Checking  the number of violations in each violation time bucket\n",
    "nyc_parking.groupBy(\"Violation_Time_Bins\").count().collect()"
   ]
  },
  {
   "cell_type": "markdown",
   "metadata": {},
   "source": [
    "#### Divided the violation time into six bins "
   ]
  },
  {
   "cell_type": "code",
   "execution_count": 584,
   "metadata": {},
   "outputs": [
    {
     "data": {
      "text/plain": [
       "[Row(Violation Code='21', count=71802),\n",
       " Row(Violation Code='40', count=44964),\n",
       " Row(Violation Code='14', count=28620)]"
      ]
     },
     "execution_count": 584,
     "metadata": {},
     "output_type": "execute_result"
    }
   ],
   "source": [
    "#Checking  the three most commonly occurring violations in each violation time bucket\n",
    "nyc_parking.filter(nyc_parking['Violation_Time_Bins']=='0.0').groupBy(\"Violation Code\").count().sort(\"count\", ascending=False).take(3)"
   ]
  },
  {
   "cell_type": "markdown",
   "metadata": {},
   "source": [
    "#### The violation codes of three most  commonly occurring violations in bin(0.0) are : 21,40,14"
   ]
  },
  {
   "cell_type": "code",
   "execution_count": 585,
   "metadata": {},
   "outputs": [
    {
     "data": {
      "text/plain": [
       "[Row(Violation Code='14', count=140311),\n",
       " Row(Violation Code='21', count=116817),\n",
       " Row(Violation Code='40', count=111595)]"
      ]
     },
     "execution_count": 585,
     "metadata": {},
     "output_type": "execute_result"
    }
   ],
   "source": [
    "#Checking  the three most commonly occurring violations in each violation time bucket\n",
    "nyc_parking.filter(nyc_parking['Violation_Time_Bins']=='1.0').groupBy(\"Violation Code\").count().sort(\"count\", ascending=False).take(3)"
   ]
  },
  {
   "cell_type": "markdown",
   "metadata": {},
   "source": [
    "#### The violation codes of three most  commonly occurring violations in bin(1.0) are:14,21,40"
   ]
  },
  {
   "cell_type": "code",
   "execution_count": 586,
   "metadata": {},
   "outputs": [
    {
     "data": {
      "text/plain": [
       "[Row(Violation Code='21', count=739318),\n",
       " Row(Violation Code='36', count=334802),\n",
       " Row(Violation Code='38', count=154463)]"
      ]
     },
     "execution_count": 586,
     "metadata": {},
     "output_type": "execute_result"
    }
   ],
   "source": [
    "#Checking  the three most commonly occurring violations in each violation time bucket\n",
    "nyc_parking.filter(nyc_parking['Violation_Time_Bins']=='2.0').groupBy(\"Violation Code\").count().sort(\"count\", ascending=False).take(3)"
   ]
  },
  {
   "cell_type": "markdown",
   "metadata": {},
   "source": [
    "#### The violation codes of three most  commonly occurring violations in bin(2.0) are:21,36,38"
   ]
  },
  {
   "cell_type": "code",
   "execution_count": 587,
   "metadata": {},
   "outputs": [
    {
     "data": {
      "text/plain": [
       "[Row(Violation Code='36', count=792009),\n",
       " Row(Violation Code='38', count=546673),\n",
       " Row(Violation Code='21', count=440532)]"
      ]
     },
     "execution_count": 587,
     "metadata": {},
     "output_type": "execute_result"
    }
   ],
   "source": [
    "#Checking  the three most commonly occurring violations in each violation time bucket\n",
    "nyc_parking.filter(nyc_parking['Violation_Time_Bins']=='3.0').groupBy(\"Violation Code\").count().sort(\"count\", ascending=False).take(3)"
   ]
  },
  {
   "cell_type": "markdown",
   "metadata": {},
   "source": [
    "#### The violation codes of three most  commonly occurring violations in bin(3.0) are : 36,38,21\n"
   ]
  },
  {
   "cell_type": "code",
   "execution_count": 588,
   "metadata": {},
   "outputs": [
    {
     "data": {
      "text/plain": [
       "[Row(Violation Code='38', count=202844),\n",
       " Row(Violation Code='37', count=145611),\n",
       " Row(Violation Code='14', count=143058)]"
      ]
     },
     "execution_count": 588,
     "metadata": {},
     "output_type": "execute_result"
    }
   ],
   "source": [
    "#Checking  the three most commonly occurring violations in each violation time bucket\n",
    "nyc_parking.filter(nyc_parking['Violation_Time_Bins']=='4.0').groupBy(\"Violation Code\").count().sort(\"count\", ascending=False).take(3)"
   ]
  },
  {
   "cell_type": "markdown",
   "metadata": {},
   "source": [
    "#### The violation codes of three most  commonly occurring violations in bin(4.0) are : 38,37,14"
   ]
  },
  {
   "cell_type": "code",
   "execution_count": 589,
   "metadata": {},
   "outputs": [
    {
     "data": {
      "text/plain": [
       "[Row(Violation Code='7', count=66041),\n",
       " Row(Violation Code='38', count=48413),\n",
       " Row(Violation Code='14', count=45195)]"
      ]
     },
     "execution_count": 589,
     "metadata": {},
     "output_type": "execute_result"
    }
   ],
   "source": [
    "#Checking  the three most commonly occurring violations in each violation time bucket\n",
    "nyc_parking.filter(nyc_parking['Violation_Time_Bins']=='5.0').groupBy(\"Violation Code\").count().sort(\"count\", ascending=False).take(3)"
   ]
  },
  {
   "cell_type": "markdown",
   "metadata": {},
   "source": [
    "####  The violation codes of three most  commonly occurring violations in bin(5.0) are : 7,38,14"
   ]
  },
  {
   "cell_type": "code",
   "execution_count": 590,
   "metadata": {},
   "outputs": [
    {
     "name": "stdout",
     "output_type": "stream",
     "text": [
      "+--------------+-------+\n",
      "|Violation Code|  count|\n",
      "+--------------+-------+\n",
      "|            21|1374929|\n",
      "|            36|1191154|\n",
      "|            38| 955004|\n",
      "+--------------+-------+\n",
      "only showing top 3 rows\n",
      "\n"
     ]
    }
   ],
   "source": [
    "#Finding three most commonly occurring violation code\n",
    "nyc_parking.groupBy(\"Violation Code\").count().sort(\"count\", ascending=False).show(3)"
   ]
  },
  {
   "cell_type": "markdown",
   "metadata": {},
   "source": [
    "#### Three most commonly occurring violation codes are : 21,36,38"
   ]
  },
  {
   "cell_type": "code",
   "execution_count": 591,
   "metadata": {},
   "outputs": [
    {
     "data": {
      "text/plain": [
       "[Row(Violation_Time_Bins=2.0, count=739318),\n",
       " Row(Violation_Time_Bins=3.0, count=440532),\n",
       " Row(Violation_Time_Bins=1.0, count=116817),\n",
       " Row(Violation_Time_Bins=0.0, count=71802),\n",
       " Row(Violation_Time_Bins=5.0, count=6013),\n",
       " Row(Violation_Time_Bins=4.0, count=447)]"
      ]
     },
     "execution_count": 591,
     "metadata": {},
     "output_type": "execute_result"
    }
   ],
   "source": [
    "#Checking the most common time of the day for the three most commonly occurring violation codes\n",
    "nyc_parking.filter(nyc_parking['Violation Code']=='21').groupBy(\"Violation_Time_Bins\").count().sort(\"count\", ascending=False).collect()"
   ]
  },
  {
   "cell_type": "markdown",
   "metadata": {},
   "source": [
    "#### The number of violations in each violation time bucket\n",
    "#### Violation_Time_Bins=0.0, count=294359),\n",
    "#### Violation_Time_Bins=1.0, count=873136),\n",
    "#### Violation_Time_Bins=4.0, count=1280319),\n",
    "#### Violation_Time_Bins=3.0, count=4719988),\n",
    "#### Violation_Time_Bins=2.0, count=2170058),"
   ]
  },
  {
   "cell_type": "markdown",
   "metadata": {},
   "source": [
    "#### The most common time of the day for the violation code 21 is the violation time bucket '2.0'"
   ]
  },
  {
   "cell_type": "code",
   "execution_count": 592,
   "metadata": {},
   "outputs": [
    {
     "data": {
      "text/plain": [
       "[Row(Violation_Time_Bins=3.0, count=792009),\n",
       " Row(Violation_Time_Bins=2.0, count=334802),\n",
       " Row(Violation_Time_Bins=1.0, count=33908),\n",
       " Row(Violation_Time_Bins=4.0, count=26826),\n",
       " Row(Violation_Time_Bins=5.0, count=3609)]"
      ]
     },
     "execution_count": 592,
     "metadata": {},
     "output_type": "execute_result"
    }
   ],
   "source": [
    "#Checking the most common time of the day for the three most commonly occurring violation codes\n",
    "nyc_parking.filter(nyc_parking['Violation Code']=='36').groupBy(\"Violation_Time_Bins\").count().sort(\"count\", ascending=False).collect()"
   ]
  },
  {
   "cell_type": "markdown",
   "metadata": {},
   "source": [
    "#### The most common time of the day for the violation code 36 is the violation time bucket '3.0'"
   ]
  },
  {
   "cell_type": "code",
   "execution_count": 593,
   "metadata": {},
   "outputs": [
    {
     "data": {
      "text/plain": [
       "[Row(Violation_Time_Bins=3.0, count=546673),\n",
       " Row(Violation_Time_Bins=4.0, count=202844),\n",
       " Row(Violation_Time_Bins=2.0, count=154463),\n",
       " Row(Violation_Time_Bins=5.0, count=48413),\n",
       " Row(Violation_Time_Bins=1.0, count=2268),\n",
       " Row(Violation_Time_Bins=0.0, count=343)]"
      ]
     },
     "execution_count": 593,
     "metadata": {},
     "output_type": "execute_result"
    }
   ],
   "source": [
    "#Checking the most common time of the day for the three most commonly occurring violation codes\n",
    "nyc_parking.filter(nyc_parking['Violation Code']=='38').groupBy(\"Violation_Time_Bins\").count().sort(\"count\", ascending=False).collect()"
   ]
  },
  {
   "cell_type": "markdown",
   "metadata": {},
   "source": [
    "#### The most common time of the day for the violation code 38 is the violation time bucket '3.0'"
   ]
  },
  {
   "cell_type": "code",
   "execution_count": 594,
   "metadata": {},
   "outputs": [],
   "source": [
    "#Creating a new column month to store the month of issue date\n",
    "nyc_parking =nyc_parking.withColumn(\"Month\",month(nyc_parking[\"Issue Date\"]))"
   ]
  },
  {
   "cell_type": "code",
   "execution_count": 595,
   "metadata": {},
   "outputs": [
    {
     "name": "stdout",
     "output_type": "stream",
     "text": [
      "+--------------+--------+------------------+----------+--------------+-----------------+------------+------------------+---------------+--------------+--------------------+-------------------+-----+\n",
      "|Summons Number|Plate ID|Registration State|Issue Date|Violation Code|Vehicle Body Type|Vehicle Make|Violation Precinct|Issuer Precinct|Violation Time|Violation_Time_24Hrs|Violation_Time_Bins|Month|\n",
      "+--------------+--------+------------------+----------+--------------+-----------------+------------+------------------+---------------+--------------+--------------------+-------------------+-----+\n",
      "|    5092469481| GZH7067|                NY|2016-07-10|             7|             SUBN|       TOYOT|                 0|              0|         0143A|                 143|                0.0|    7|\n",
      "|    5092451658| GZH7067|                NY|2016-07-08|             7|             SUBN|       TOYOT|                 0|              0|         0400P|                1600|                4.0|    7|\n",
      "|    4006265037| FZX9232|                NY|2016-08-23|             5|             SUBN|        FORD|                 0|              0|         0233P|                1433|                3.0|    8|\n",
      "|    8478629828| 66623ME|                NY|2017-06-14|            47|             REFG|       MITSU|                14|             14|         1120A|                1120|                3.0|    6|\n",
      "|    7868300310| 37033JV|                NY|2016-11-21|            69|             DELV|       INTER|                13|             13|         0555P|                1755|                4.0|   11|\n",
      "+--------------+--------+------------------+----------+--------------+-----------------+------------+------------------+---------------+--------------+--------------------+-------------------+-----+\n",
      "only showing top 5 rows\n",
      "\n"
     ]
    }
   ],
   "source": [
    "#Displaying the records of the data frame\n",
    "nyc_parking.show(5)"
   ]
  },
  {
   "cell_type": "code",
   "execution_count": 596,
   "metadata": {},
   "outputs": [
    {
     "name": "stdout",
     "output_type": "stream",
     "text": [
      "+-----+\n",
      "|Month|\n",
      "+-----+\n",
      "|   12|\n",
      "|    1|\n",
      "|    6|\n",
      "|    3|\n",
      "|    5|\n",
      "|    9|\n",
      "|    4|\n",
      "|    8|\n",
      "|    7|\n",
      "|   10|\n",
      "|   11|\n",
      "|    2|\n",
      "+-----+\n",
      "\n"
     ]
    }
   ],
   "source": [
    "#Checking the distinct months available in the data\n",
    "nyc_parking.select(\"Month\").distinct().show()"
   ]
  },
  {
   "cell_type": "code",
   "execution_count": 597,
   "metadata": {},
   "outputs": [],
   "source": [
    "#Dividing the year into four seasons\n",
    "from pyspark.ml.feature import Bucketizer\n",
    "bucketBorders = [1,4,7,10,12]\n",
    "bucketer = Bucketizer().setSplits(bucketBorders).setInputCol(\"Month\").setOutputCol(\"Seasons\")\n",
    "nyc_parking=bucketer.transform(nyc_parking)"
   ]
  },
  {
   "cell_type": "code",
   "execution_count": 598,
   "metadata": {},
   "outputs": [
    {
     "name": "stdout",
     "output_type": "stream",
     "text": [
      "+--------------+--------+------------------+----------+--------------+-----------------+------------+------------------+---------------+--------------+--------------------+-------------------+-----+-------+\n",
      "|Summons Number|Plate ID|Registration State|Issue Date|Violation Code|Vehicle Body Type|Vehicle Make|Violation Precinct|Issuer Precinct|Violation Time|Violation_Time_24Hrs|Violation_Time_Bins|Month|Seasons|\n",
      "+--------------+--------+------------------+----------+--------------+-----------------+------------+------------------+---------------+--------------+--------------------+-------------------+-----+-------+\n",
      "|    5092469481| GZH7067|                NY|2016-07-10|             7|             SUBN|       TOYOT|                 0|              0|         0143A|                 143|                0.0|    7|    2.0|\n",
      "|    5092451658| GZH7067|                NY|2016-07-08|             7|             SUBN|       TOYOT|                 0|              0|         0400P|                1600|                4.0|    7|    2.0|\n",
      "|    4006265037| FZX9232|                NY|2016-08-23|             5|             SUBN|        FORD|                 0|              0|         0233P|                1433|                3.0|    8|    2.0|\n",
      "|    8478629828| 66623ME|                NY|2017-06-14|            47|             REFG|       MITSU|                14|             14|         1120A|                1120|                3.0|    6|    1.0|\n",
      "|    7868300310| 37033JV|                NY|2016-11-21|            69|             DELV|       INTER|                13|             13|         0555P|                1755|                4.0|   11|    3.0|\n",
      "|    5096917368| FZD8593|                NY|2017-06-13|             7|             SUBN|       ME/BE|                 0|              0|         0852P|                2052|                5.0|    6|    1.0|\n",
      "|    1413609545|  X20DCM|                NJ|2016-08-03|            40|              SDN|       TOYOT|                71|             71|         0215A|                 215|                0.0|    8|    2.0|\n",
      "|    4628525523|  326SF9|                MA|2016-12-21|            36|               UT|         BMW|                 0|              0|         0758A|                 758|                1.0|   12|    3.0|\n",
      "|    4627113330| HCA5464|                NY|2016-11-21|            36|             SUBN|       DODGE|                 0|              0|         1005A|                1005|                3.0|   11|    3.0|\n",
      "|    4006478550| VAD7274|                VA|2016-10-05|             5|               4D|         BMW|                 0|              0|         0845A|                 845|                2.0|   10|    3.0|\n",
      "+--------------+--------+------------------+----------+--------------+-----------------+------------+------------------+---------------+--------------+--------------------+-------------------+-----+-------+\n",
      "only showing top 10 rows\n",
      "\n"
     ]
    }
   ],
   "source": [
    "#Checking the records of the data\n",
    "nyc_parking.show(10)"
   ]
  },
  {
   "cell_type": "code",
   "execution_count": 599,
   "metadata": {},
   "outputs": [
    {
     "data": {
      "text/plain": [
       "4"
      ]
     },
     "execution_count": 599,
     "metadata": {},
     "output_type": "execute_result"
    }
   ],
   "source": [
    "#Checking the count of distinct seasons\n",
    "nyc_parking.select('Seasons').distinct().count()"
   ]
  },
  {
   "cell_type": "code",
   "execution_count": 600,
   "metadata": {},
   "outputs": [
    {
     "data": {
      "text/plain": [
       "[Row(Seasons=0.0, count=2401422),\n",
       " Row(Seasons=1.0, count=2712923),\n",
       " Row(Seasons=3.0, count=2386766),\n",
       " Row(Seasons=2.0, count=2232077)]"
      ]
     },
     "execution_count": 600,
     "metadata": {},
     "output_type": "execute_result"
    }
   ],
   "source": [
    "#Checking  the number of violations in each season\n",
    "nyc_parking.groupBy(\"Seasons\").count().collect()"
   ]
  },
  {
   "cell_type": "markdown",
   "metadata": {},
   "source": [
    "#### The number of violations in each season are:\n",
    "#### Season 1: 2401422\n",
    "#### Season 2: 2712923\n",
    "#### Season 3: 2386766\n",
    "#### Season 4: 2232077"
   ]
  },
  {
   "cell_type": "code",
   "execution_count": 601,
   "metadata": {},
   "outputs": [
    {
     "data": {
      "text/plain": [
       "[Row(Violation Code='21', count=335515),\n",
       " Row(Violation Code='36', count=294667),\n",
       " Row(Violation Code='38', count=257511)]"
      ]
     },
     "execution_count": 601,
     "metadata": {},
     "output_type": "execute_result"
    }
   ],
   "source": [
    "#Checking  the three most commonly occurring violations in each season\n",
    "nyc_parking.filter(nyc_parking['Seasons']=='0.0').groupBy(\"Violation Code\").count().sort(\"count\", ascending=False).take(3)"
   ]
  },
  {
   "cell_type": "markdown",
   "metadata": {},
   "source": [
    "#### The violation codes of three most  commonly occurring violations in season 0  are : 21,36,38"
   ]
  },
  {
   "cell_type": "code",
   "execution_count": 602,
   "metadata": {},
   "outputs": [
    {
     "data": {
      "text/plain": [
       "[Row(Violation Code='21', count=379971),\n",
       " Row(Violation Code='36', count=315264),\n",
       " Row(Violation Code='14', count=244652)]"
      ]
     },
     "execution_count": 602,
     "metadata": {},
     "output_type": "execute_result"
    }
   ],
   "source": [
    "#Checking  the three most commonly occurring violations in each season\n",
    "nyc_parking.filter(nyc_parking['Seasons']=='1.0').groupBy(\"Violation Code\").count().sort(\"count\", ascending=False).take(3)"
   ]
  },
  {
   "cell_type": "markdown",
   "metadata": {},
   "source": [
    "#### The violation codes of three most  commonly occurring violations in season 1 are : 21,36,14 "
   ]
  },
  {
   "cell_type": "code",
   "execution_count": 603,
   "metadata": {},
   "outputs": [
    {
     "data": {
      "text/plain": [
       "[Row(Violation Code='21', count=347164),\n",
       " Row(Violation Code='38', count=221198),\n",
       " Row(Violation Code='36', count=204810)]"
      ]
     },
     "execution_count": 603,
     "metadata": {},
     "output_type": "execute_result"
    }
   ],
   "source": [
    "#Checking  the three most commonly occurring violations in each season\n",
    "nyc_parking.filter(nyc_parking['Seasons']=='2.0').groupBy(\"Violation Code\").count().sort(\"count\", ascending=False).take(3)"
   ]
  },
  {
   "cell_type": "markdown",
   "metadata": {},
   "source": [
    "#### The violation codes of three most  commonly occurring violations in season 2 are : 21,38,36"
   ]
  },
  {
   "cell_type": "code",
   "execution_count": 604,
   "metadata": {},
   "outputs": [
    {
     "data": {
      "text/plain": [
       "[Row(Violation Code='36', count=376413),\n",
       " Row(Violation Code='21', count=312279),\n",
       " Row(Violation Code='38', count=238078)]"
      ]
     },
     "execution_count": 604,
     "metadata": {},
     "output_type": "execute_result"
    }
   ],
   "source": [
    "#Checking  the three most commonly occurring violations in each season\n",
    "nyc_parking.filter(nyc_parking['Seasons']=='3.0').groupBy(\"Violation Code\").count().sort(\"count\", ascending=False).take(3)"
   ]
  },
  {
   "cell_type": "markdown",
   "metadata": {},
   "source": [
    "#### The violation codes of three most  commonly occurring violations in season 3 are : 36,21,38"
   ]
  },
  {
   "cell_type": "code",
   "execution_count": 605,
   "metadata": {},
   "outputs": [
    {
     "name": "stdout",
     "output_type": "stream",
     "text": [
      "+--------------+-------+\n",
      "|Violation Code|  count|\n",
      "+--------------+-------+\n",
      "|            21|1374929|\n",
      "|            36|1191154|\n",
      "|            38| 955004|\n",
      "+--------------+-------+\n",
      "only showing top 3 rows\n",
      "\n"
     ]
    }
   ],
   "source": [
    "#Finding three most commonly occurring violation codes\n",
    "nyc_parking.groupBy(\"Violation Code\").count().sort(\"count\", ascending=False).show(3)"
   ]
  },
  {
   "cell_type": "markdown",
   "metadata": {},
   "source": [
    "#### The frequency of three most  commonly occurring violation codes are:\n",
    "\n",
    "#### Violation Code 21 : 1374929 \n",
    "#### Violation Code 36 : 1191154\n",
    "#### Violation Code 38 :   955004 \n"
   ]
  },
  {
   "cell_type": "markdown",
   "metadata": {},
   "source": [
    "#### The average fine for the above  three most commonly occurring violation codes is: \n",
    "#### Violation Code 21 : 55 dollars\n",
    "#### Violation Code 36 : 50 dollars\n",
    "#### Violation Code 38 : 50 dollars"
   ]
  },
  {
   "cell_type": "code",
   "execution_count": 606,
   "metadata": {},
   "outputs": [
    {
     "data": {
      "text/plain": [
       "75621095"
      ]
     },
     "execution_count": 606,
     "metadata": {},
     "output_type": "execute_result"
    }
   ],
   "source": [
    "# Calculating the total amount collected as fine for the three most commonly occurring violation codes\n",
    "nyc_parking.filter(nyc_parking['Violation Code']=='21').count()*55"
   ]
  },
  {
   "cell_type": "code",
   "execution_count": 607,
   "metadata": {},
   "outputs": [
    {
     "data": {
      "text/plain": [
       "59557700"
      ]
     },
     "execution_count": 607,
     "metadata": {},
     "output_type": "execute_result"
    }
   ],
   "source": [
    "# Calculating the total amount collected as fine for the three most commonly occurring violation codes\n",
    "nyc_parking.filter(nyc_parking['Violation Code']=='36').count()*50"
   ]
  },
  {
   "cell_type": "code",
   "execution_count": 608,
   "metadata": {},
   "outputs": [
    {
     "data": {
      "text/plain": [
       "47750200"
      ]
     },
     "execution_count": 608,
     "metadata": {},
     "output_type": "execute_result"
    }
   ],
   "source": [
    "# Calculating the total amount collected as fine for the three most commonly occurring violation codes\n",
    "nyc_parking.filter(nyc_parking['Violation Code']=='38').count()*50"
   ]
  },
  {
   "cell_type": "markdown",
   "metadata": {},
   "source": [
    "#### The total amount collected as fine for the above  three most commonly occurring violation codes is: \n",
    "#### Violation Code 21 : 75621095 dollars\n",
    "#### Violation Code 36 : 59557700 dollars\n",
    "#### Violation Code 38 : 47750200 dollars"
   ]
  },
  {
   "cell_type": "markdown",
   "metadata": {},
   "source": [
    "#### Violation Code 21 has the highest total collection of total amount of fine:75621095 dollars"
   ]
  },
  {
   "cell_type": "markdown",
   "metadata": {},
   "source": [
    "#### We can infer that top three violations for which highest amount of fine is collected are:\n",
    "#### 1.Street Cleaning: No parking where parking is not allowed by sign, street marking or traffic control device(Violation Code:21)\n",
    "#### 2.Exceeding the posted speed limit in or near a designated school zone.(Violation Code:36)\n",
    "#### 3.Parking Meter -- Failing to show a receipt or tag in the windshield(Drivers get a 5-minute grace period past the expired time on parking meter receipts)(Violation Code:38)"
   ]
  },
  {
   "cell_type": "markdown",
   "metadata": {},
   "source": [
    "#### NYC Police Department can take measures to avoid the above three most commonly occuring violations."
   ]
  },
  {
   "cell_type": "code",
   "execution_count": null,
   "metadata": {},
   "outputs": [],
   "source": []
  }
 ],
 "metadata": {
  "kernelspec": {
   "display_name": "PySpark",
   "language": "python",
   "name": "pyspark"
  },
  "language_info": {
   "codemirror_mode": {
    "name": "ipython",
    "version": 3
   },
   "file_extension": ".py",
   "mimetype": "text/x-python",
   "name": "python",
   "nbconvert_exporter": "python",
   "pygments_lexer": "ipython3",
   "version": "3.6.5"
  }
 },
 "nbformat": 4,
 "nbformat_minor": 2
}
